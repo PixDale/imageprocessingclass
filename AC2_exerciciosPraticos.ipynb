{
  "cells": [
    {
      "cell_type": "markdown",
      "metadata": {
        "id": "tOIU9SaeIAz-"
      },
      "source": [
        "# <center>Centro Universitário Facens<br/></center>\n",
        "<br/>\n",
        "<font size=\"4\"><center><b>Disciplina: Processamento de imagens</b></center></font>\n",
        "  \n",
        "<font size=\"3\"><center>Prof. Renato M. Silva</center></font>\n",
        "<br/>\n",
        "<br/>\n",
        "\n",
        "## <center>Avaliação Continuada 2 (AC2)</center>"
      ]
    },
    {
      "cell_type": "markdown",
      "metadata": {
        "id": "BAko5eHR70A1"
      },
      "source": [
        "----\n",
        "### <center>Nome e RA dos componentes do grupo</center>\n",
        "\n",
        "    \n",
        "| Nome     |      RA      | \n",
        "|:-        |:-------------:|\n",
        "|Felipe Galdino dos Santos          |171038              | \n",
        "|          |              | \n",
        "|          |              | \n",
        "|          |              | \n",
        "    "
      ]
    },
    {
      "cell_type": "markdown",
      "metadata": {
        "id": "qaqXmzQS70A2"
      },
      "source": [
        "----\n",
        "### Instruções\n",
        "**1**. Siga boas práticas de programação:\n",
        "- dar nomes intuitivos para as variáveis\n",
        "- dar nomes intuitivos para as funções\n",
        "\n",
        "**2**. O trabalho pode ser feito em grupos de até 3 pessoas. Porém, não é permitido que o grupo tenha pessoas de uma turma diferente da sua.  Apenas uma pessoa do grupo deve submeter o trabalho. Você deve submeter apenas o arquivo .ipynb.\n",
        "\n",
        "**3**. Em todos os exercícios, as imagens finais solicitadas devem estar no formato **uint8**.\n",
        "\n",
        "**4**. Não é permitido usar nenhuma outra biblioteca de processamento de imagens além da OpenCV.\n",
        "\n",
        "**5**. Cuidado com plágio. Se for detectado plágio entre grupos, a punição será dada para todos os componentes dos grupos envolvidos.\n",
        "\n",
        "**6**. Antes de submeter o notebook, certifique-se que não há erros de código. Uma forma de se certificar disso é usar a opção **\"Reiniciar Kernel e executar todas as células\"** do Jupyter ou a opção **\"Reiniciar e executar tudo\"** do Google Colab. "
      ]
    },
    {
      "cell_type": "markdown",
      "metadata": {
        "id": "Vtfcl1jP70A3",
        "tags": []
      },
      "source": [
        "----\n",
        "## Exercicio 1\n",
        "\n",
        " - a) Crie uma matriz usando a biblioteca numpy.\n",
        " - b) Transforme essa matriz em uma imagem que corresponda a bandeira da Malásia, apresentada abaixo. \n",
        " - c) Plote a imagem resultante.\n",
        " - d) Salve a imagem resultante na pasta **figsResultado** com o nome **ex01.png**\n",
        "\n",
        " <img src=\"figsNotebook/malasia_flag.png\" width=\"255\" height=\"128\" />\n",
        "  \n",
        "\n",
        " \n",
        "Para gerar a bandeira da Malásia, você poderá fazer apenas as seguintes operações:\n",
        "\n",
        "- operações morfológicas nos símbolos contidos na imagem **malasia_flagSymbols.png** disponível na pasta **figs** para remover os pontos brancos;\n",
        "- operações aritméticas entre a matriz e os símbolos contidos na imagem **malasia_flagSymbols.png** disponível na pasta **figs**; \n",
        "- operações matriciais, tanto para gerar e transformar cores, quanto para gerar os retângulos que fazem parte da bandeira.\n",
        "\n",
        "Obs: as únicas funções prontas da biblioteca OpenCV que podem ser usadas neste exercícios são as que executam operações morfológicas."
      ]
    },
    {
      "cell_type": "code",
      "execution_count": 14,
      "metadata": {
        "colab": {
          "base_uri": "https://localhost:8080/",
          "height": 545
        },
        "id": "uyXozVGa70A5",
        "outputId": "67d796bf-54d1-43c9-b548-0fddea7e4eb4"
      },
      "outputs": [
        {
          "data": {
            "image/png": "[encoded data removed]",
            "text/plain": [
              "<Figure size 432x288 with 1 Axes>"
            ]
          },
          "metadata": {
            "needs_background": "light"
          },
          "output_type": "display_data"
        }
      ],
      "source": [
        "##### Resolva o exercício aqui\n",
        "from cv2 import solve\n",
        "import numpy as np\n",
        "import cv2  \n",
        "import matplotlib.pyplot as plt\n",
        "\n",
        "# copyPixels copia todos os pixels da cor color de src para dest, iniciando nas coordenadas startX e startY de dest\n",
        "def copyPixels(dest, src, startY, startX, color):\n",
        "  for y in range(src.shape[0]):\n",
        "    for x in range(src.shape[1]):\n",
        "      if np.array_equal(src[y][x], color):\n",
        "        dest[startY+y][startX+x] = src[y][x]\n",
        "\n",
        "\n",
        "\n",
        "QUANT_LISTRAS = 14\n",
        "flag_height=200 * QUANT_LISTRAS # precisa ser multiplo de 14, pois sao 14 listras na bandeira\n",
        "flag_length = int(1.5 * flag_height)\n",
        "bandeira_malasia = np.zeros([flag_height,flag_length,3], dtype=np.uint8)\n",
        "redPixel = [204,0,0]\n",
        "whitePixel = [255,255,255]\n",
        "bluePixel = [0,50,160]\n",
        "yellowPixel = [255,209,0]\n",
        "\n",
        "# gera as listras vermelho e branco da bandeira\n",
        "for i in range(14):\n",
        "  bandeira_malasia[i*int(flag_height/14):(i+1)*int(flag_height/14),:] = redPixel if i%2==0 else whitePixel\n",
        "\n",
        "\n",
        "# cria o quadrado azul da bandeira\n",
        "bandeira_malasia[0:8*int(flag_height/14),0:int(flag_length/2)] = bluePixel\n",
        "\n",
        "# abre a imagem setando o oparâmetro IMREAD_UNCHANGED para que\n",
        "# ela seja aberta no formato BGRA: um formato igual ao BGR, mas que possui também um canal alpha (a parte transparente)\n",
        "imgBGRA = cv2.imread('figs/malasia_flagSymbols.png', cv2.IMREAD_UNCHANGED)\n",
        "\n",
        "# converte a imagem de BGRA para RGB\n",
        "imgRGB = cv2.cvtColor(imgBGRA, cv2.COLOR_BGRA2RGB)\n",
        "\n",
        "# os locais transparentes da imagem BGRA possuem valores 0 no canal alpha (índice 3)\n",
        "# o código abaixo captura os pixels transparentes da imagem BGRA e transforma os respectivos pixels\n",
        "# da imagem RGB para vermelho\n",
        "imgRGB[ imgBGRA[:,:,3] == 0 ] = [255,255,255]\n",
        "\n",
        "\n",
        "# converte a imagem para escala de cinza a fim de aplicar a limiarização\n",
        "imgGray = cv2.cvtColor(imgRGB, cv2.COLOR_RGB2GRAY)\n",
        "\n",
        "# aplica a limiarização\n",
        "ret, thresh = cv2.threshold(imgGray, 127, 255, cv2.THRESH_BINARY)\n",
        "\n",
        "# aplica o processo de abertura da imagem para remover os pontos brancos\n",
        "kernel = np.ones((5,5), np.uint8)\n",
        "opening = cv2.morphologyEx(thresh, cv2.MORPH_OPEN, kernel)\n",
        "\n",
        "\n",
        "# converte o resultado da abertura em  RGBA\n",
        "opening = cv2.cvtColor(opening, cv2.COLOR_GRAY2RGBA)\n",
        "# zera o alpha dos pixeis do fundo para voltar a ter transparência\n",
        "opening[ opening[:,:,0] == 255] = [0,0,0,0]\n",
        "\n",
        "imgCompleta = opening.copy()\n",
        "# define para amarelo os pixels que possuem alpha igual à 255\n",
        "imgCompleta[ imgCompleta[:,:,3] == 255 ] = yellowPixel + [255]\n",
        "\n",
        "# separa as figuras\n",
        "lua = imgCompleta[:630,:]\n",
        "sol = imgCompleta[630:,:]\n",
        "\n",
        "# cria uma roi com o tamanho certo do quadrado azul da bandeira\n",
        "roi = np.zeros([8*int(flag_height/14),int(flag_length/2),4], dtype=np.uint8)\n",
        "roi[:,:] = bluePixel + [255]\n",
        "\n",
        "\n",
        "# reescala as figuras para ficarem do tamanho adequado para a roi\n",
        "scaleLua = 2.4\n",
        "scaleSol = 2.15\n",
        "lua = cv2.resize(lua, (int(lua.shape[0] * scaleLua), int(lua.shape[1] * scaleLua)), interpolation=cv2.INTER_CUBIC)\n",
        "sol = cv2.resize(sol, (int(sol.shape[0] * scaleSol), int(sol.shape[1] * scaleSol)), interpolation=cv2.INTER_CUBIC)\n",
        "\n",
        "# copia os pixels amarelos para a roi\n",
        "copyPixels(roi, lua, 80, 0, yellowPixel+[255])\n",
        "copyPixels(roi, sol, 150, 970, yellowPixel+[255])\n",
        "\n",
        "# copia a roi nova (quadrado azul) para a bandeira\n",
        "bandeira_malasia[0:8*int(flag_height/14),0:int(flag_length/2)] = roi[:,:,0:3]\n",
        "\n",
        "\n",
        "# converte a imagem de volta para BGR para poder ser salva\n",
        "bandeira_malasia_bgr = cv2.cvtColor(bandeira_malasia, cv2.COLOR_RGB2BGR)\n",
        "# salva a imagem na pasta figsResultado\n",
        "cv2.imwrite('./figsResultado/ex01.png', bandeira_malasia_bgr)\n",
        "\n",
        "\n",
        "plt.imshow(bandeira_malasia)\n",
        "plt.title('Bandeira da Malásia')\n",
        "plt.show()\n",
        "\n",
        "\n"
      ]
    },
    {
      "cell_type": "markdown",
      "metadata": {
        "id": "fWtm2zTA70A7"
      },
      "source": [
        "----\n",
        "## Exercício 2\n",
        "\n",
        "Sabe-se que é possível reduzir o efeito de borramento de uma imagem por meio da operação de realce de contraste que irá gerar uma nova imagem onde cada pixel $g$ recebe o valor definido pela equação a seguir:\n",
        "\n",
        "$$g = \n",
        "\\begin{cases}\n",
        "f \\ominus b \\text{, } & \\text{ se } f - (f \\ominus b) <  ( f \\oplus b ) - f \\\\\n",
        "f \\oplus b\\text{, } & \\text{ caso contrário }\n",
        "\\end{cases}\n",
        "$$\n",
        "\n",
        "Na equação acima, $f \\ominus b$ é o resultado da operação de erosão no pixel $f$ usando o elemento estruturante $b$. Por outro lado, $f \\oplus b$ é o resultado da operação de dilatação no pixel $f$ usando o elemento estruturante $b$.\n",
        "\n",
        "Implemente a operação de realce descrita acima e aplique na imagem **img/borramento.jpg**. Depois disso, plote a imagem resultante na tela e também salve na pasta **figsResultado** com o nome **ex02.png**\n",
        "\n",
        "Obs: neste exercício só é permitido usar função pronta da biblioteca OpenCV para fazer as operações de erosão e dilatação. "
      ]
    },
    {
      "cell_type": "code",
      "execution_count": null,
      "metadata": {
        "id": "l-OosI5dH9Q_"
      },
      "outputs": [],
      "source": [
        "##### Resolva o exercício aqui\n"
      ]
    },
    {
      "cell_type": "markdown",
      "metadata": {
        "id": "d3jp9qlm70A8"
      },
      "source": [
        "----\n",
        "## Exercício 3\n",
        "\n",
        "Sabe-se que é possível reduzir o efeito de borramento de uma imagem $f$ por meio de uma operação de realce de contraste que gera uma nova imagem $g$ resultante da combinação das transformadas **top-hat** e **bottom-hat**, conforme a seguinte equação:\n",
        "\n",
        "$$g = \n",
        "f+TH(f)-BH(f)\n",
        "$$\n",
        "\n",
        "Na equação acima, $TH(f)$ é o resultado da transformada  **top-hat** na imagem $f$ e $BH(f)$ é o resultado da operação **bottom-hat** na imagem $f$.\n",
        "\n",
        "Implemente a operação de realce descrita acima e aplique na imagem **img/borramento.jpg**. Depois disso, plote a imagem resultante na tela e também salve na pasta **figsResultado** com o nome **ex03.png**\n",
        "\n",
        "Obs: neste exercício só é permitido usar função pronta da biblioteca OpenCV para fazer as operações de erosão e dilatação. "
      ]
    },
    {
      "cell_type": "code",
      "execution_count": null,
      "metadata": {
        "id": "iK6XKOcr70A9"
      },
      "outputs": [],
      "source": [
        "##### Resolva o exercício aqui\n",
        "\n"
      ]
    },
    {
      "cell_type": "markdown",
      "metadata": {
        "id": "cvo8abiJ70A-"
      },
      "source": [
        "----\n",
        "## Exercicio 4\n",
        "\n",
        "Remova o ruído da imagem **facens1_ruido.png** usando operações morfológicas. O resultado mínimo esperado é apresentado na imagem a seguir. Depois disso, plote a imagem resultante na tela e também salve na pasta **figsResultado** com o nome **ex04.png**\n",
        "\n",
        "<img src=\"figsNotebook/facens1_ruidoCorrigido.png\" width=\"500\"/>"
      ]
    },
    {
      "cell_type": "code",
      "execution_count": null,
      "metadata": {
        "id": "7AdRLa2670A_"
      },
      "outputs": [],
      "source": [
        "##### Resolva o exercício aqui\n",
        "\n"
      ]
    },
    {
      "cell_type": "markdown",
      "metadata": {
        "id": "w-2TnmE970BC"
      },
      "source": [
        "----\n",
        "## Exercicio 5\n",
        "\n",
        "Remova o ruído da imagem **facens2_ruido.png** usando um ou mais filtros. O resultado mínimo esperado é apresentado na imagem a seguir. Depois disso, plote a imagem resultante na tela e também salve na pasta **figsResultado** com o nome **ex05.png**\n",
        "\n",
        "<img src=\"figsNotebook/facens2_ruidoCorrigido.png\" width=\"500\"/>"
      ]
    },
    {
      "cell_type": "code",
      "execution_count": null,
      "metadata": {
        "id": "erfjvItn70BC"
      },
      "outputs": [],
      "source": [
        "##### Resolva o exercício aqui\n",
        "\n"
      ]
    },
    {
      "cell_type": "markdown",
      "metadata": {
        "id": "_aQKGbul70BD"
      },
      "source": [
        "----\n",
        "## Exercicio 6\n",
        "\n",
        "Faça uma função chamada **retornaCor** que deve receber uma imagem como entrada e retornar a cor predominante na imagem. Para isso, ela deve extrair o histograma de cada canal de cor da imagem de entrada e fazer uma análise deles para inferir a cor predominante. Teste a função criada nas imagens disponíveis no diretório **figs/objetos/** e imprima o nome de cada arquivo e a cor inferida."
      ]
    },
    {
      "cell_type": "code",
      "execution_count": null,
      "metadata": {
        "id": "3pltYELI70BD"
      },
      "outputs": [],
      "source": [
        "##### Resolva o exercício aqui\n",
        "\n"
      ]
    },
    {
      "cell_type": "markdown",
      "metadata": {
        "id": "a3Ur5umV70BE"
      },
      "source": [
        "----\n",
        "## Exercicio 7\n",
        "\n",
        "Aumentar um único tom de cinza em alguns pixels de uma imagem qualquer irá gerar uma alteração visualmente imperceptível. \n",
        "\n",
        "Considerando a afirmação acima, crie uma função chamada **criptografar** que deve receber duas imagens de entrada. Considere que a primeira imagem terá uma dimensão menor ou igual a da segunda imagem. Considere também que a primeira imagem contém um texto de um única cor e de tamanho arbitrário. A função deve retornar uma nova imagem que esconda a primeira imagem na segunda.\n",
        "\n",
        " - a limiarização pode ser usada para transformar os tons de cinza da primeira imagem para um tom de cinza desejado\n",
        " - uma operação aritmética pode ser usada para esconder a primeira imagem na segunda\n",
        "\n",
        "Use a função acima para esconder a imagem **figs/mensagemSecreta.png** dentro da imagem **terra.jpg**, mostre a imagem resultante na tela e salve na pasta **figsResultado** com o nome **ex07_criptografada.png**\n",
        "\n",
        "Crie uma função chamada **descriptografar** que deve receber duas imagem. A primeira delas é uma imagem que contém uma mensagem escondida. A segunda imagem é a original antes da operação de criptografia. A função deve retornar uma nova imagem que contenha a mensagem escondida (visível) extraída da primeira imagem fornecida como parâmetro da função. \n",
        " - uma operação aritmética pode ser usada para extrair a imagem escondida\n",
        " - a limiarização pode ser usada para transformar os tons de cinza da mensagem escondida em um tom de cinza desejado\n",
        "\n",
        "Use a função **descriptografar** para revelar a mensagem contida dentro da imagem retornada pela primeira função (**figsAlunos/ex07_criptografada.png**), mostre a imagem resultante na tela e salve na pasta **figsResultado** com o nome **ex07_descriptografada.png**.\n",
        "\n",
        "Obs: as funções acima devem ser genéricas, ou seja, devem funcionar para quaisquer imagens passadas como entrada."
      ]
    },
    {
      "cell_type": "code",
      "execution_count": null,
      "metadata": {
        "id": "4U5KFwLv70BE"
      },
      "outputs": [],
      "source": [
        "##### Resolva o exercício aqui\n"
      ]
    },
    {
      "cell_type": "markdown",
      "metadata": {
        "id": "RfPY8Ubu70BF"
      },
      "source": [
        "----\n",
        "## Exercicio 8\n",
        "\n",
        "Crie uma função chamada **separar** que receba o endereço de dois diretório como parâmetro. Essa função deve criar duas subpastas no **segundo** diretório, chamadas **ex08_claro** e **ex08_escuro**. Ela deve identificar automaticamente se cada uma das imagens contidas no primeiro diretório é clara ou escura. \n",
        "\n",
        " - Se a função identificar que a imagem é escura, ela deve fazer a equalização do histograma. Salve a imagem equalizada dentro da pasta **ex08_escuro**.\n",
        " \n",
        " - Se a função identificar que a imagem é clara, ela deve criar duas novas imagens com versões escurecidas: a primeira deve ser escurecida por meio de subtração, enquanto a segunda deve ser escurecida por meio de multiplicação. Depois disso, faça a equalização das duas imagens escurecidas. Salve as duas imagens escurecidas e suas versões equalizadas dentro da pasta **ex08_claro**.\n",
        " - Arredonde valores fracionários gerados pela operação aritmética\n",
        " - Trate os valores inválidos gerados pela operação aritmética com a técnica de saturação\n",
        " \n",
        "Teste a função passando como parâmetro os endereços dos diretórios **figs/estrada/** e **figsResultado**, respectivamente.\n",
        "\n",
        "Dica:\n",
        " - para identificar se a imagem é clara ou escura você pode usar informações do histograma"
      ]
    },
    {
      "cell_type": "code",
      "execution_count": null,
      "metadata": {
        "id": "BXSYRpAR70BF"
      },
      "outputs": [],
      "source": [
        "##### Resolva o exercício aqui\n"
      ]
    },
    {
      "cell_type": "code",
      "execution_count": null,
      "metadata": {
        "id": "zZTJjYSR70BG"
      },
      "outputs": [],
      "source": []
    }
  ],
  "metadata": {
    "colab": {
      "provenance": []
    },
    "kernelspec": {
      "display_name": "Python 3.6.9 64-bit",
      "language": "python",
      "name": "python3"
    },
    "language_info": {
      "codemirror_mode": {
        "name": "ipython",
        "version": 3
      },
      "file_extension": ".py",
      "mimetype": "text/x-python",
      "name": "python",
      "nbconvert_exporter": "python",
      "pygments_lexer": "ipython3",
      "version": "3.6.9"
    },
    "vscode": {
      "interpreter": {
        "hash": "31f2aee4e71d21fbe5cf8b01ff0e069b9275f58929596ceb00d14d90e3e16cd6"
      }
    }
  },
  "nbformat": 4,
  "nbformat_minor": 0
}
